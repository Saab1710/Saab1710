{
  "nbformat": 4,
  "nbformat_minor": 0,
  "metadata": {
    "colab": {
      "provenance": [],
      "include_colab_link": true
    },
    "kernelspec": {
      "name": "python3",
      "display_name": "Python 3"
    },
    "language_info": {
      "name": "python"
    }
  },
  "cells": [
    {
      "cell_type": "markdown",
      "metadata": {
        "id": "view-in-github",
        "colab_type": "text"
      },
      "source": [
        "<a href=\"https://colab.research.google.com/github/Saab1710/Saab1710/blob/main/Week_8_2025_Seminar_solutions_.ipynb\" target=\"_parent\"><img src=\"https://colab.research.google.com/assets/colab-badge.svg\" alt=\"Open In Colab\"/></a>"
      ]
    },
    {
      "cell_type": "markdown",
      "source": [
        "Exercise 1\n",
        "Create a Series object and print it"
      ],
      "metadata": {
        "id": "SDiXU0mqdpoL"
      }
    },
    {
      "cell_type": "code",
      "execution_count": 4,
      "metadata": {
        "colab": {
          "base_uri": "https://localhost:8080/"
        },
        "id": "xsynbDRmdTcD",
        "outputId": "2e3650df-5533-453d-a6ba-4efbb43395df"
      },
      "outputs": [
        {
          "output_type": "stream",
          "name": "stdout",
          "text": [
            "0          1\n",
            "1    Richard\n",
            "2        6.2\n",
            "3      Hello\n",
            "dtype: object\n",
            "[1 'Richard' 6.2 'Hello']\n",
            "a          1\n",
            "b    Richard\n",
            "c        6.2\n",
            "d      Hello\n",
            "dtype: object\n",
            "Richard\n",
            "b\n"
          ]
        }
      ],
      "source": [
        "import pandas as pd\n",
        "import numpy as np\n",
        "\n",
        "# Create a series\n",
        "obj = pd.Series([1, \"Richard\", 6.2, \"Hello\"])\n",
        "\n",
        "# Print series obj\n",
        "print(obj)\n",
        "\n",
        "# Print values\n",
        "print(obj.values)\n",
        "\n",
        "# Add an index to the obj and print it\n",
        "obj.index = ['a', 'b', 'c', 'd']\n",
        "print(obj)\n",
        "\n",
        "# Print the second item \"b\"\n",
        "print(obj['b'])\n",
        "\n",
        "# Print the index of the second item \"b\"\n",
        "print(obj.index[1])\n"
      ]
    },
    {
      "cell_type": "markdown",
      "source": [
        "Create a dictionary with student details and convert it to a Series\n",
        "\n"
      ],
      "metadata": {
        "id": "_guzF8NVdz7V"
      }
    },
    {
      "cell_type": "code",
      "source": [
        "# Create a dictionary\n",
        "score = {\"richard\": 90, \"mike\": 80, \"Ben\": 85, \"Tom\": 75, \"Rob\": 95}\n",
        "\n",
        "# Convert to Series and print it\n",
        "score_series = pd.Series(score)\n",
        "print(score_series)\n",
        "\n",
        "# Print score of Tim\n",
        "print(score_series[\"richard\"])\n",
        "\n",
        "# Print the scores greater than 85\n",
        "print(score_series[score_series > 85])\n",
        "\n",
        "# Check if Tom is in the list\n",
        "print(\"Tom\" in score_series)\n",
        "\n",
        "# Check if \"Can\" is in the list\n",
        "print(\"Can\" in score_series)\n",
        "\n",
        "# Divide scores by 10 and print them\n",
        "print(score_series / 10)\n",
        "\n",
        "# Double the scores and print them\n",
        "print(score_series * 2)\n",
        "\n",
        "# Show the null values\n",
        "print(score_series.isnull())\n"
      ],
      "metadata": {
        "colab": {
          "base_uri": "https://localhost:8080/"
        },
        "id": "vIi0fuRsd-dH",
        "outputId": "6972b42c-d4bb-4c7f-8aa4-ab3397101d11"
      },
      "execution_count": 15,
      "outputs": [
        {
          "output_type": "stream",
          "name": "stdout",
          "text": [
            "richard    90\n",
            "mike       80\n",
            "Ben        85\n",
            "Tom        75\n",
            "Rob        95\n",
            "dtype: int64\n",
            "90\n",
            "richard    90\n",
            "Rob        95\n",
            "dtype: int64\n",
            "True\n",
            "False\n",
            "richard    9.0\n",
            "mike       8.0\n",
            "Ben        8.5\n",
            "Tom        7.5\n",
            "Rob        9.5\n",
            "dtype: float64\n",
            "richard    180\n",
            "mike       160\n",
            "Ben        170\n",
            "Tom        150\n",
            "Rob        190\n",
            "dtype: int64\n",
            "richard    False\n",
            "mike       False\n",
            "Ben        False\n",
            "Tom        False\n",
            "Rob        False\n",
            "dtype: bool\n"
          ]
        }
      ]
    },
    {
      "cell_type": "markdown",
      "source": [
        "Exercise 2\n",
        "Load vgsalesGlobale.csv from local drive"
      ],
      "metadata": {
        "id": "Chkn28K6eCq2"
      }
    },
    {
      "cell_type": "code",
      "source": [
        "from google.colab import files\n",
        "\n",
        "# Upload file\n",
        "uploaded = files.upload()\n",
        "\n",
        "# Load dataset into a Pandas DataFrame\n",
        "import pandas as pd\n",
        "df = pd.read_csv(\"vgsalesGlobale.csv\")\n",
        "\n",
        "# Print first few rows of the dataset\n",
        "print(df.head())\n",
        "\n",
        "# Produce multiple statistics summaries on “Global_Sales” in one shot\n",
        "print(df[\"Global_Sales\"].describe())\n",
        "\n",
        "# Plot a histogram on “year” data\n",
        "import matplotlib.pyplot as plt\n",
        "\n",
        "df[\"Year\"].hist()\n",
        "plt.xlabel(\"Year\")\n",
        "plt.ylabel(\"Count\")\n",
        "plt.title(\"Histogram of Years\")\n",
        "plt.show()\n"
      ],
      "metadata": {
        "colab": {
          "base_uri": "https://localhost:8080/",
          "height": 1000
        },
        "id": "3ndbbCkweE4m",
        "outputId": "9dad1006-039a-4a07-d228-8298c202e9dd"
      },
      "execution_count": 8,
      "outputs": [
        {
          "output_type": "display_data",
          "data": {
            "text/plain": [
              "<IPython.core.display.HTML object>"
            ],
            "text/html": [
              "\n",
              "     <input type=\"file\" id=\"files-da2c8b9a-350c-4ebb-9169-7548ab869085\" name=\"files[]\" multiple disabled\n",
              "        style=\"border:none\" />\n",
              "     <output id=\"result-da2c8b9a-350c-4ebb-9169-7548ab869085\">\n",
              "      Upload widget is only available when the cell has been executed in the\n",
              "      current browser session. Please rerun this cell to enable.\n",
              "      </output>\n",
              "      <script>// Copyright 2017 Google LLC\n",
              "//\n",
              "// Licensed under the Apache License, Version 2.0 (the \"License\");\n",
              "// you may not use this file except in compliance with the License.\n",
              "// You may obtain a copy of the License at\n",
              "//\n",
              "//      http://www.apache.org/licenses/LICENSE-2.0\n",
              "//\n",
              "// Unless required by applicable law or agreed to in writing, software\n",
              "// distributed under the License is distributed on an \"AS IS\" BASIS,\n",
              "// WITHOUT WARRANTIES OR CONDITIONS OF ANY KIND, either express or implied.\n",
              "// See the License for the specific language governing permissions and\n",
              "// limitations under the License.\n",
              "\n",
              "/**\n",
              " * @fileoverview Helpers for google.colab Python module.\n",
              " */\n",
              "(function(scope) {\n",
              "function span(text, styleAttributes = {}) {\n",
              "  const element = document.createElement('span');\n",
              "  element.textContent = text;\n",
              "  for (const key of Object.keys(styleAttributes)) {\n",
              "    element.style[key] = styleAttributes[key];\n",
              "  }\n",
              "  return element;\n",
              "}\n",
              "\n",
              "// Max number of bytes which will be uploaded at a time.\n",
              "const MAX_PAYLOAD_SIZE = 100 * 1024;\n",
              "\n",
              "function _uploadFiles(inputId, outputId) {\n",
              "  const steps = uploadFilesStep(inputId, outputId);\n",
              "  const outputElement = document.getElementById(outputId);\n",
              "  // Cache steps on the outputElement to make it available for the next call\n",
              "  // to uploadFilesContinue from Python.\n",
              "  outputElement.steps = steps;\n",
              "\n",
              "  return _uploadFilesContinue(outputId);\n",
              "}\n",
              "\n",
              "// This is roughly an async generator (not supported in the browser yet),\n",
              "// where there are multiple asynchronous steps and the Python side is going\n",
              "// to poll for completion of each step.\n",
              "// This uses a Promise to block the python side on completion of each step,\n",
              "// then passes the result of the previous step as the input to the next step.\n",
              "function _uploadFilesContinue(outputId) {\n",
              "  const outputElement = document.getElementById(outputId);\n",
              "  const steps = outputElement.steps;\n",
              "\n",
              "  const next = steps.next(outputElement.lastPromiseValue);\n",
              "  return Promise.resolve(next.value.promise).then((value) => {\n",
              "    // Cache the last promise value to make it available to the next\n",
              "    // step of the generator.\n",
              "    outputElement.lastPromiseValue = value;\n",
              "    return next.value.response;\n",
              "  });\n",
              "}\n",
              "\n",
              "/**\n",
              " * Generator function which is called between each async step of the upload\n",
              " * process.\n",
              " * @param {string} inputId Element ID of the input file picker element.\n",
              " * @param {string} outputId Element ID of the output display.\n",
              " * @return {!Iterable<!Object>} Iterable of next steps.\n",
              " */\n",
              "function* uploadFilesStep(inputId, outputId) {\n",
              "  const inputElement = document.getElementById(inputId);\n",
              "  inputElement.disabled = false;\n",
              "\n",
              "  const outputElement = document.getElementById(outputId);\n",
              "  outputElement.innerHTML = '';\n",
              "\n",
              "  const pickedPromise = new Promise((resolve) => {\n",
              "    inputElement.addEventListener('change', (e) => {\n",
              "      resolve(e.target.files);\n",
              "    });\n",
              "  });\n",
              "\n",
              "  const cancel = document.createElement('button');\n",
              "  inputElement.parentElement.appendChild(cancel);\n",
              "  cancel.textContent = 'Cancel upload';\n",
              "  const cancelPromise = new Promise((resolve) => {\n",
              "    cancel.onclick = () => {\n",
              "      resolve(null);\n",
              "    };\n",
              "  });\n",
              "\n",
              "  // Wait for the user to pick the files.\n",
              "  const files = yield {\n",
              "    promise: Promise.race([pickedPromise, cancelPromise]),\n",
              "    response: {\n",
              "      action: 'starting',\n",
              "    }\n",
              "  };\n",
              "\n",
              "  cancel.remove();\n",
              "\n",
              "  // Disable the input element since further picks are not allowed.\n",
              "  inputElement.disabled = true;\n",
              "\n",
              "  if (!files) {\n",
              "    return {\n",
              "      response: {\n",
              "        action: 'complete',\n",
              "      }\n",
              "    };\n",
              "  }\n",
              "\n",
              "  for (const file of files) {\n",
              "    const li = document.createElement('li');\n",
              "    li.append(span(file.name, {fontWeight: 'bold'}));\n",
              "    li.append(span(\n",
              "        `(${file.type || 'n/a'}) - ${file.size} bytes, ` +\n",
              "        `last modified: ${\n",
              "            file.lastModifiedDate ? file.lastModifiedDate.toLocaleDateString() :\n",
              "                                    'n/a'} - `));\n",
              "    const percent = span('0% done');\n",
              "    li.appendChild(percent);\n",
              "\n",
              "    outputElement.appendChild(li);\n",
              "\n",
              "    const fileDataPromise = new Promise((resolve) => {\n",
              "      const reader = new FileReader();\n",
              "      reader.onload = (e) => {\n",
              "        resolve(e.target.result);\n",
              "      };\n",
              "      reader.readAsArrayBuffer(file);\n",
              "    });\n",
              "    // Wait for the data to be ready.\n",
              "    let fileData = yield {\n",
              "      promise: fileDataPromise,\n",
              "      response: {\n",
              "        action: 'continue',\n",
              "      }\n",
              "    };\n",
              "\n",
              "    // Use a chunked sending to avoid message size limits. See b/62115660.\n",
              "    let position = 0;\n",
              "    do {\n",
              "      const length = Math.min(fileData.byteLength - position, MAX_PAYLOAD_SIZE);\n",
              "      const chunk = new Uint8Array(fileData, position, length);\n",
              "      position += length;\n",
              "\n",
              "      const base64 = btoa(String.fromCharCode.apply(null, chunk));\n",
              "      yield {\n",
              "        response: {\n",
              "          action: 'append',\n",
              "          file: file.name,\n",
              "          data: base64,\n",
              "        },\n",
              "      };\n",
              "\n",
              "      let percentDone = fileData.byteLength === 0 ?\n",
              "          100 :\n",
              "          Math.round((position / fileData.byteLength) * 100);\n",
              "      percent.textContent = `${percentDone}% done`;\n",
              "\n",
              "    } while (position < fileData.byteLength);\n",
              "  }\n",
              "\n",
              "  // All done.\n",
              "  yield {\n",
              "    response: {\n",
              "      action: 'complete',\n",
              "    }\n",
              "  };\n",
              "}\n",
              "\n",
              "scope.google = scope.google || {};\n",
              "scope.google.colab = scope.google.colab || {};\n",
              "scope.google.colab._files = {\n",
              "  _uploadFiles,\n",
              "  _uploadFilesContinue,\n",
              "};\n",
              "})(self);\n",
              "</script> "
            ]
          },
          "metadata": {}
        },
        {
          "output_type": "stream",
          "name": "stdout",
          "text": [
            "Saving vgsalesGlobale.csv to vgsalesGlobale.csv\n",
            "   Rank                      Name Platform    Year         Genre Publisher  \\\n",
            "0     1                Wii Sports      Wii  2006.0        Sports  Nintendo   \n",
            "1     2         Super Mario Bros.      NES  1985.0      Platform  Nintendo   \n",
            "2     3            Mario Kart Wii      Wii  2008.0        Racing  Nintendo   \n",
            "3     4         Wii Sports Resort      Wii  2009.0        Sports  Nintendo   \n",
            "4     5  Pokemon Red/Pokemon Blue       GB  1996.0  Role-Playing  Nintendo   \n",
            "\n",
            "   NA_Sales  EU_Sales  JP_Sales  Other_Sales  Global_Sales  \\\n",
            "0     41.49     29.02      3.77         8.46         82.74   \n",
            "1     29.08      3.58      6.81         0.77         40.24   \n",
            "2     15.85     12.88      3.79         3.31         35.82   \n",
            "3     15.75     11.01      3.28         2.96         33.00   \n",
            "4     11.27      8.89     10.22         1.00         31.37   \n",
            "\n",
            "   Predicted_Global_Sales  \n",
            "0                   82.74  \n",
            "1                   39.00  \n",
            "2                   35.82  \n",
            "3                   33.00  \n",
            "4                   31.37  \n",
            "count    3799.000000\n",
            "mean        1.827776\n",
            "std         2.889088\n",
            "min         0.530000\n",
            "25%         0.720000\n",
            "50%         1.080000\n",
            "75%         1.830000\n",
            "max        82.740000\n",
            "Name: Global_Sales, dtype: float64\n"
          ]
        },
        {
          "output_type": "display_data",
          "data": {
            "text/plain": [
              "<Figure size 640x480 with 1 Axes>"
            ],
            "image/png": "[encoded data removed]"
          },
          "metadata": {}
        }
      ]
    },
    {
      "cell_type": "markdown",
      "source": [
        "Exercise 3\n",
        "Create a dictionary with student details and convert to DataFrame"
      ],
      "metadata": {
        "id": "7R8k-9qgeRxK"
      }
    },
    {
      "cell_type": "code",
      "source": [
        "# Create dictionary with student details\n",
        "data = {\n",
        "    \"name\": [\"Richard\", \"Tom\", \"Alan\", \"John\", \"Alex\", \"Jane\", \"Kate\"],\n",
        "    \"score\": [90, 80, 85, 75, 95, 60, 65],\n",
        "    \"sport\": [\"Cricket\", \"Football\", \"Skiing\", \"Swimming\", \"Tennis\", \"Tennis\", \"Surfing\"],\n",
        "    \"sex\": [\"M\", \"M\", \"M\", \"M\", \"F\", \"F\", \"F\"]\n",
        "}\n",
        "\n",
        "# Convert dictionary to DataFrame\n",
        "df_students = pd.DataFrame(data)\n",
        "\n",
        "# Print the DataFrame\n",
        "print(df_students)\n"
      ],
      "metadata": {
        "colab": {
          "base_uri": "https://localhost:8080/"
        },
        "id": "MiaovDSmeTxm",
        "outputId": "dd29ccb0-81da-432b-fb40-365e6e81e9f5"
      },
      "execution_count": 10,
      "outputs": [
        {
          "output_type": "stream",
          "name": "stdout",
          "text": [
            "      name  score     sport sex\n",
            "0  Richard     90   Cricket   M\n",
            "1      Tom     80  Football   M\n",
            "2     Alan     85    Skiing   M\n",
            "3     John     75  Swimming   M\n",
            "4     Alex     95    Tennis   F\n",
            "5     Jane     60    Tennis   F\n",
            "6     Kate     65   Surfing   F\n"
          ]
        }
      ]
    }
  ]
}