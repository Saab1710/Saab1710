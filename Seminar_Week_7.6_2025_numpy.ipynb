{
  "nbformat": 4,
  "nbformat_minor": 0,
  "metadata": {
    "colab": {
      "provenance": [],
      "include_colab_link": true
    },
    "kernelspec": {
      "name": "python3",
      "display_name": "Python 3"
    },
    "language_info": {
      "name": "python"
    }
  },
  "cells": [
    {
      "cell_type": "markdown",
      "metadata": {
        "id": "view-in-github",
        "colab_type": "text"
      },
      "source": [
        "<a href=\"https://colab.research.google.com/github/Saab1710/Saab1710/blob/main/Seminar_Week_7.6_2025_numpy.ipynb\" target=\"_parent\"><img src=\"https://colab.research.google.com/assets/colab-badge.svg\" alt=\"Open In Colab\"/></a>"
      ]
    },
    {
      "cell_type": "markdown",
      "source": [
        "np.linalg.norm is a function from the NumPy library that calculates the vector norm or the magnitude of a given vector. When we subtract two points point1 and point2, we get a vector that represents the direction and magnitude from point2 to point1. The function np.linalg.norm computes the magnitude of this vector, which is the distance between the two points in Euclidean space."
      ],
      "metadata": {
        "id": "-ouaenxx4D0h"
      }
    },
    {
      "cell_type": "code",
      "execution_count": 1,
      "metadata": {
        "colab": {
          "base_uri": "https://localhost:8080/"
        },
        "id": "t0-jWvNKr4VR",
        "outputId": "c24c8839-c2ee-4b1c-9575-baa95f24edc3"
      },
      "outputs": [
        {
          "output_type": "stream",
          "name": "stdout",
          "text": [
            "8.717797887081348\n"
          ]
        }
      ],
      "source": [
        "#Solution- Q1\n",
        "import numpy as np\n",
        "\n",
        "# initializing points in\n",
        "# numpy arrays\n",
        "point1 = np.array((4, 9, 1))\n",
        "point2 = np.array((2, 3, 7))\n",
        "\n",
        "# calculating Euclidean distance\n",
        "# using linalg.norm()\n",
        "dist = np.linalg.norm(point1 - point2)\n",
        "\n",
        "# printing Euclidean distance\n",
        "print(dist)\n"
      ]
    },
    {
      "cell_type": "code",
      "source": [],
      "metadata": {
        "id": "QSAN87_ejCJf"
      },
      "execution_count": null,
      "outputs": []
    },
    {
      "cell_type": "code",
      "source": [
        "import numpy as np\n",
        "\n",
        "# Initializing points in numpy arrays\n",
        "point1 = np.array((4, 9, 1))\n",
        "point2 = np.array((2, 3, 7))\n",
        "\n",
        "# Calculating squared difference\n",
        "squared_diff = np.square(point1 - point2)\n",
        "\n",
        "# Summing the squared differences and taking the square root\n",
        "dist = np.sqrt(np.sum(squared_diff))\n",
        "\n",
        "# Printing the Euclidean distance\n",
        "print(dist)\n"
      ],
      "metadata": {
        "colab": {
          "base_uri": "https://localhost:8080/"
        },
        "id": "Sns5dAQzgKTS",
        "outputId": "7f3c04a2-1714-4132-b8b7-0324b8376b53"
      },
      "execution_count": 7,
      "outputs": [
        {
          "output_type": "stream",
          "name": "stdout",
          "text": [
            "9.0\n"
          ]
        }
      ]
    },
    {
      "cell_type": "code",
      "source": [
        "#Solution- Q2\n",
        "import numpy as np\n",
        "x1 = np.array(['Big', 'Mongo'])\n",
        "x2 = np.array(['Data', 'DB'])\n",
        "#print('Array1:')\n",
        "#print(x1)\n",
        "#print('Array2:')\n",
        "#print(x2)\n",
        "new_array = np.char.add(x1, x2)\n",
        "print('new array:')\n",
        "print(new_array)\n"
      ],
      "metadata": {
        "colab": {
          "base_uri": "https://localhost:8080/"
        },
        "id": "Z6QSsMupsf2Y",
        "outputId": "c5084388-7e56-4cc2-bfa0-ac7953eaf4eb"
      },
      "execution_count": 3,
      "outputs": [
        {
          "output_type": "stream",
          "name": "stdout",
          "text": [
            "new array:\n",
            "['BigData' 'MongoDB']\n"
          ]
        }
      ]
    },
    {
      "cell_type": "markdown",
      "source": [
        "In this example, x1 is an array of strings ['Big', 'Mongo'], and x2 is an array of strings ['Data', 'DB']. The np.char.add function concatenates the two arrays element-wise as strings, resulting in a new array ['BigData', 'MongoDB']."
      ],
      "metadata": {
        "id": "xL7wxOnK4qqn"
      }
    },
    {
      "cell_type": "code",
      "source": [
        "#Solution- Q3\n",
        "#Here we’re creating a new array with a descending range: [10  9  8  7  6  5  4  3  2  1] and\n",
        "#adding it to [ 1  2  3  4  5  6  7  8  9 10], so we get an array with the values [11 11 11 11 11 11 11 11 11 11].\n",
        "one_dim= np.array([1,2,3,4,5,6,7,8,9,10])\n",
        "print(one_dim)\n",
        "print(np.arange(10, 0, -1))\n",
        "print(one_dim + np.arange(10, 0, -1))\n"
      ],
      "metadata": {
        "colab": {
          "base_uri": "https://localhost:8080/"
        },
        "id": "wpoNKtYBsztY",
        "outputId": "28211f93-14ae-4ee6-8a92-58df4673c552"
      },
      "execution_count": 4,
      "outputs": [
        {
          "output_type": "stream",
          "name": "stdout",
          "text": [
            "[ 1  2  3  4  5  6  7  8  9 10]\n",
            "[10  9  8  7  6  5  4  3  2  1]\n",
            "[11 11 11 11 11 11 11 11 11 11]\n"
          ]
        }
      ]
    },
    {
      "cell_type": "code",
      "source": [
        "# What is the result of array_one > 2 ?\n",
        "\n",
        "\n",
        "print(one_dim > 2)\n"
      ],
      "metadata": {
        "id": "L6fy8_pgtERy",
        "colab": {
          "base_uri": "https://localhost:8080/"
        },
        "outputId": "bcf0d1b8-1703-4df9-825d-0d2c2ce2dd67"
      },
      "execution_count": 5,
      "outputs": [
        {
          "output_type": "stream",
          "name": "stdout",
          "text": [
            "[False False  True  True  True  True  True  True  True  True]\n"
          ]
        }
      ]
    },
    {
      "cell_type": "code",
      "source": [
        "#Solution- Q4\n",
        "import numpy as np\n",
        "\n",
        "arr1= np.array([1,2,3,5,7])\n",
        "print(np.max(arr1))\n",
        "print(np.min(arr1))\n",
        "print(np.max(arr1))\n",
        "print(np.sum(arr1))\n",
        "print(np.average(arr1))\n",
        "print(np.std(arr1))\n"
      ],
      "metadata": {
        "colab": {
          "base_uri": "https://localhost:8080/"
        },
        "id": "P0nh7D3Pta0B",
        "outputId": "8a5749de-ed02-4d20-ea3a-e3ae69af2449"
      },
      "execution_count": 6,
      "outputs": [
        {
          "output_type": "stream",
          "name": "stdout",
          "text": [
            "7\n",
            "1\n",
            "7\n",
            "18\n",
            "3.6\n",
            "2.1540659228538015\n"
          ]
        }
      ]
    }
  ]
}